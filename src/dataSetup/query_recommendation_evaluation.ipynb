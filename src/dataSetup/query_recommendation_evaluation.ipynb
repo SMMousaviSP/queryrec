{
 "cells": [
  {
   "attachments": {},
   "cell_type": "markdown",
   "id": "e8238c05-a929-412b-b59d-cdb81df75702",
   "metadata": {},
   "source": [
    "# Query Recommendation Evaluation"
   ]
  },
  {
   "cell_type": "code",
   "execution_count": 1,
   "id": "7c98521e-b63d-4480-a362-d5fb1887845f",
   "metadata": {},
   "outputs": [],
   "source": [
    "import copy\n",
    "import os\n",
    "\n",
    "import matplotlib.pyplot as plt\n",
    "\n",
    "from dataLoad import *\n",
    "from dataProcessing import *\n",
    "from evaluation import *"
   ]
  },
  {
   "cell_type": "markdown",
   "id": "94a706ab-6486-4137-9ff3-a5e6d6e36c37",
   "metadata": {},
   "source": [
    "### Loading User Set and Utility Matrix"
   ]
  },
  {
   "cell_type": "code",
   "execution_count": 2,
   "id": "67a8f438-185f-4136-b01d-d6a7ba77f7aa",
   "metadata": {},
   "outputs": [],
   "source": [
    "userIDs_small = loadUserSet()\n",
    "queryIDs_small, utilityMatrix_small, average_small = loadUtilityMatrix()\n",
    "\n",
    "userSetPath_medium_user = os.path.join(DATA_PATH, \"mediumDatasets\", \"double_the_userSet\", \"userSet.csv\")\n",
    "utilityPath_medium_user = os.path.join(DATA_PATH, \"mediumDatasets\", \"double_the_userSet\", \"utilityMatrix.csv\")\n",
    "userIDs_medium_user = loadUserSet(userSetPath_medium_user)\n",
    "queryIDs_medium_user, utilityMatrix_medium_user, average_medium_user = loadUtilityMatrix(utilityPath_medium_user)\n",
    "\n",
    "userSetPath_medium_query = os.path.join(DATA_PATH, \"mediumDatasets\", \"double_the_querySet\", \"userSet.csv\")\n",
    "utilityPath_medium_query = os.path.join(DATA_PATH, \"mediumDatasets\", \"double_the_querySet\", \"utilityMatrix.csv\")\n",
    "userIDs_medium_query = loadUserSet(userSetPath_medium_query)\n",
    "queryIDs_medium_query, utilityMatrix_medium_query, average_medium_query = loadUtilityMatrix(utilityPath_medium_query)\n",
    "\n",
    "userSetPath_large_user = os.path.join(DATA_PATH, \"largeDatasets\", \"quadruple_the_userSet\", \"userSet.csv\")\n",
    "utilityPath_large_user = os.path.join(DATA_PATH, \"largeDatasets\", \"quadruple_the_userSet\", \"utilityMatrix.csv\")\n",
    "userIDs_large_user = loadUserSet(userSetPath_large_user)\n",
    "queryIDs_large_user, utilityMatrix_large_user, average_large_user = loadUtilityMatrix(utilityPath_large_user)\n",
    "\n",
    "userSetPath_large_query = os.path.join(DATA_PATH, \"largeDatasets\", \"quadruple_the_querySet\", \"userSet.csv\")\n",
    "utilityPath_large_query = os.path.join(DATA_PATH, \"largeDatasets\", \"quadruple_the_querySet\", \"utilityMatrix.csv\")\n",
    "userIDs_large_query = loadUserSet(userSetPath_large_query)\n",
    "queryIDs_large_query, utilityMatrix_large_query, average_large_query = loadUtilityMatrix(utilityPath_large_query)"
   ]
  },
  {
   "cell_type": "markdown",
   "id": "34d21315-54f8-46a8-8ca4-cae0b8384cdb",
   "metadata": {},
   "source": [
    "### Getting Liked and Disliked Queries\n",
    "In `userQueryLikedDict` and `userQueryDislikedDict`  the key is the User ID and the value is a list of query IDs that each user liked / disliked.\n",
    "In `queryUserLikedDict` and `queryUserLikedDict` the key is the Query ID and the value is a list of User IDs who liked / disliked the query."
   ]
  },
  {
   "cell_type": "code",
   "execution_count": 3,
   "id": "b131ca0e-3b05-4cec-832e-488f2a0b1236",
   "metadata": {},
   "outputs": [],
   "source": [
    "(\n",
    "    userQueryLikedDict_small,\n",
    "    userQueryDislikedDict_small,\n",
    "    queryUserLikedDict_small,\n",
    "    queryUserDislikedDict_small\n",
    ") = generateLikedDislikedDictionary(\n",
    "    userIDs_small, queryIDs_small, utilityMatrix_small, average_small\n",
    ")\n",
    "\n",
    "(\n",
    "    userQueryLikedDict_medium_user,\n",
    "    userQueryDislikedDict_medium_user,\n",
    "    queryUserLikedDict_medium_user,\n",
    "    queryUserDislikedDict_medium_user\n",
    ") = generateLikedDislikedDictionary(\n",
    "    userIDs_medium_user,\n",
    "    queryIDs_medium_user,\n",
    "    utilityMatrix_medium_user,\n",
    "    average_medium_user\n",
    ")\n",
    "\n",
    "(\n",
    "    userQueryLikedDict_medium_query,\n",
    "    userQueryDislikedDict_medium_query,\n",
    "    queryUserLikedDict_medium_query,\n",
    "    queryUserDislikedDict_medium_query\n",
    ") = generateLikedDislikedDictionary(\n",
    "    userIDs_medium_query,\n",
    "    queryIDs_medium_query,\n",
    "    utilityMatrix_medium_query,\n",
    "    average_medium_query\n",
    ")\n",
    "\n",
    "(\n",
    "    userQueryLikedDict_large_user,\n",
    "    userQueryDislikedDict_large_user,\n",
    "    queryUserLikedDict_large_user,\n",
    "    queryUserDislikedDict_large_user\n",
    ") = generateLikedDislikedDictionary(\n",
    "    userIDs_large_user,\n",
    "    queryIDs_large_user,\n",
    "    utilityMatrix_large_user,\n",
    "    average_large_user\n",
    ")\n",
    "\n",
    "(\n",
    "    userQueryLikedDict_large_query,\n",
    "    userQueryDislikedDict_large_query,\n",
    "    queryUserLikedDict_large_query,\n",
    "    queryUserDislikedDict_large_query\n",
    ") = generateLikedDislikedDictionary(\n",
    "    userIDs_large_query,\n",
    "    queryIDs_large_query,\n",
    "    utilityMatrix_large_query,\n",
    "    average_large_query\n",
    ")"
   ]
  },
  {
   "cell_type": "markdown",
   "id": "7cd8b818-dd99-462b-b42c-0fe49ba9c6a1",
   "metadata": {},
   "source": [
    "### Calculating the Similarity of Users and Queries with Jaccard Similarity"
   ]
  },
  {
   "cell_type": "code",
   "execution_count": 4,
   "id": "c109ea89-8dee-431b-bbb8-452330654bf6",
   "metadata": {},
   "outputs": [],
   "source": [
    "userSimilarity_small = jaccardSimilarity(\n",
    "    userQueryLikedDict_small,\n",
    "    userQueryDislikedDict_small,\n",
    "    userIDs_small\n",
    ")\n",
    "querySimilarity_small = jaccardSimilarity(\n",
    "    queryUserLikedDict_small,\n",
    "    queryUserDislikedDict_small,\n",
    "    queryIDs_small\n",
    ")\n",
    "\n",
    "userSimilarity_medium_user = jaccardSimilarity(\n",
    "    userQueryLikedDict_medium_user,\n",
    "    userQueryDislikedDict_medium_user,\n",
    "    userIDs_medium_user\n",
    ")\n",
    "querySimilarity_medium_user = jaccardSimilarity(\n",
    "    queryUserLikedDict_medium_user,\n",
    "    queryUserDislikedDict_medium_user,\n",
    "    queryIDs_medium_user\n",
    ")\n",
    "\n",
    "userSimilarity_medium_query = jaccardSimilarity(\n",
    "    userQueryLikedDict_medium_query,\n",
    "    userQueryDislikedDict_medium_query,\n",
    "    userIDs_medium_query\n",
    ")\n",
    "querySimilarity_medium_query = jaccardSimilarity(\n",
    "    queryUserLikedDict_medium_query,\n",
    "    queryUserDislikedDict_medium_query,\n",
    "    queryIDs_medium_query\n",
    ")\n",
    "\n",
    "userSimilarity_large_user = jaccardSimilarity(\n",
    "    userQueryLikedDict_large_user,\n",
    "    userQueryDislikedDict_large_user,\n",
    "    userIDs_large_user\n",
    ")\n",
    "querySimilarity_large_user = jaccardSimilarity(\n",
    "    queryUserLikedDict_large_user,\n",
    "    queryUserDislikedDict_large_user,\n",
    "    queryIDs_large_user\n",
    ")\n",
    "\n",
    "userSimilarity_large_query = jaccardSimilarity(\n",
    "    userQueryLikedDict_large_query,\n",
    "    userQueryDislikedDict_large_query,\n",
    "    userIDs_large_query\n",
    ")\n",
    "querySimilarity_large_query = jaccardSimilarity(\n",
    "    queryUserLikedDict_large_query,\n",
    "    queryUserDislikedDict_large_query,\n",
    "    queryIDs_large_query\n",
    ")"
   ]
  },
  {
   "cell_type": "markdown",
   "id": "e0b3b9cc-2f69-4e24-a4ef-bc34970b7f4a",
   "metadata": {},
   "source": [
    "### Getting 20% of the already rated queries for evaluation"
   ]
  },
  {
   "cell_type": "code",
   "execution_count": 5,
   "id": "68df002d-37af-4e8b-9627-ec91cb6c899e",
   "metadata": {},
   "outputs": [],
   "source": [
    "seed = 10\n",
    "\n",
    "evaluation_small = getQueriesForEvaluation(\n",
    "    utilityMatrix_small,\n",
    "    removeFromUtilityMatrix=True,\n",
    "    percentage=0.2,\n",
    "    seed=seed\n",
    ")\n",
    "queriesToEvaluate_small = prepareQueriesForPrediction(evaluation_small)\n",
    "\n",
    "evaluation_medium_user = getQueriesForEvaluation(\n",
    "    utilityMatrix_medium_user,\n",
    "    removeFromUtilityMatrix=True,\n",
    "    percentage=0.2,\n",
    "    seed=seed\n",
    ")\n",
    "queriesToEvaluate_medium_user = prepareQueriesForPrediction(evaluation_medium_user)\n",
    "\n",
    "evaluation_medium_query = getQueriesForEvaluation(\n",
    "    utilityMatrix_medium_query,\n",
    "    removeFromUtilityMatrix=True,\n",
    "    percentage=0.2,\n",
    "    seed=seed\n",
    ")\n",
    "queriesToEvaluate_medium_query = prepareQueriesForPrediction(evaluation_medium_query)\n",
    "\n",
    "evaluation_large_user = getQueriesForEvaluation(\n",
    "    utilityMatrix_large_user,\n",
    "    removeFromUtilityMatrix=True,\n",
    "    percentage=0.2,\n",
    "    seed=seed\n",
    ")\n",
    "queriesToEvaluate_large_user = prepareQueriesForPrediction(evaluation_large_user)\n",
    "\n",
    "evaluation_large_query = getQueriesForEvaluation(\n",
    "    utilityMatrix_large_query,\n",
    "    removeFromUtilityMatrix=True,\n",
    "    percentage=0.2,\n",
    "    seed=seed\n",
    ")\n",
    "queriesToEvaluate_large_query = prepareQueriesForPrediction(evaluation_large_query)"
   ]
  },
  {
   "cell_type": "markdown",
   "id": "b5780295-cba3-4d49-a540-ee40264d2286",
   "metadata": {},
   "source": [
    "### Preparing a function to fill predictions\n",
    "This function is used to fill the prediction of the queries that could not\n",
    "be predicted. In this specific example average rating of user will be placed."
   ]
  },
  {
   "cell_type": "code",
   "execution_count": 6,
   "id": "c1d82a07-099b-45f1-b18f-95c7ed1cb4d4",
   "metadata": {},
   "outputs": [],
   "source": [
    "fillWithAvg = lambda user, query, average: average[user]\n",
    "fillPredictions_small = lambda user, query: fillWithAvg(user, query, average_small)\n",
    "fillPredictions_medium_user = lambda user, query: fillWithAvg(user, query, average_medium_user)\n",
    "fillPredictions_medium_query = lambda user, query: fillWithAvg(user, query, average_medium_query)\n",
    "fillPredictions_large_user = lambda user, query: fillWithAvg(user, query, average_large_user)\n",
    "fillPredictions_large_query = lambda user, query: fillWithAvg(user, query, average_large_query)"
   ]
  },
  {
   "cell_type": "markdown",
   "id": "92ca150c-2f99-4fef-90d2-35828ae7c2e4",
   "metadata": {},
   "source": [
    "### Make Predictions with Query Based Collaborative Filering"
   ]
  },
  {
   "cell_type": "code",
   "execution_count": 7,
   "id": "d7829155-caff-4fd7-9cd1-0b163a56bf62",
   "metadata": {},
   "outputs": [
    {
     "name": "stdout",
     "output_type": "stream",
     "text": [
      "Not able to predict 0 ratings\n",
      "Not able to predict 0 ratings\n",
      "Not able to predict 0 ratings\n",
      "Not able to predict 0 ratings\n",
      "Not able to predict 0 ratings\n"
     ]
    }
   ],
   "source": [
    "topNQueries = 4\n",
    "query_cf_predictions_small = queryBasedCF(utilityMatrix_small, queriesToEvaluate_small, querySimilarity_small, topNQueries, fillNotPredictable=fillPredictions_small)\n",
    "\n",
    "topNQueries = 4\n",
    "query_cf_predictions_medium_user = queryBasedCF(utilityMatrix_medium_user, queriesToEvaluate_medium_user, querySimilarity_medium_user, topNQueries, fillNotPredictable=fillPredictions_medium_user)\n",
    "\n",
    "topNQueries = 4\n",
    "query_cf_predictions_medium_query = queryBasedCF(utilityMatrix_medium_query, queriesToEvaluate_medium_query, querySimilarity_medium_query, topNQueries, fillNotPredictable=fillPredictions_medium_query)\n",
    "\n",
    "topNQueries = 4\n",
    "query_cf_predictions_large_user = queryBasedCF(utilityMatrix_large_user, queriesToEvaluate_large_user, querySimilarity_large_user, topNQueries, fillNotPredictable=fillPredictions_large_user)\n",
    "\n",
    "topNQueries = 4\n",
    "query_cf_predictions_large_query = queryBasedCF(utilityMatrix_large_query, queriesToEvaluate_large_query, querySimilarity_large_query, topNQueries, fillNotPredictable=fillPredictions_large_query)"
   ]
  },
  {
   "cell_type": "markdown",
   "id": "55218fa7-9bde-40c7-90d4-015b92fb85bc",
   "metadata": {},
   "source": [
    "### Make Predictions with User Based Collaborative Filtering"
   ]
  },
  {
   "cell_type": "code",
   "execution_count": 8,
   "id": "77d14901-bf6e-413c-aaf3-a0efa679a7e7",
   "metadata": {},
   "outputs": [
    {
     "name": "stdout",
     "output_type": "stream",
     "text": [
      "Not able to predict 0 ratings\n",
      "Not able to predict 0 ratings\n",
      "Not able to predict 0 ratings\n",
      "Not able to predict 0 ratings\n",
      "Not able to predict 0 ratings\n"
     ]
    }
   ],
   "source": [
    "topNUsers = 4\n",
    "user_cf_predictions_small = userBasedCF(utilityMatrix_small, queriesToEvaluate_small, userSimilarity_small, topNUsers, fillNotPredictable=fillPredictions_small)\n",
    "\n",
    "topNUsers = 4\n",
    "user_cf_predictions_medium_user = userBasedCF(utilityMatrix_medium_user, queriesToEvaluate_medium_user, userSimilarity_medium_user, topNUsers, fillNotPredictable=fillPredictions_medium_user)\n",
    "\n",
    "topNUsers = 4\n",
    "user_cf_predictions_medium_query = userBasedCF(utilityMatrix_medium_query, queriesToEvaluate_medium_query, userSimilarity_medium_query, topNUsers, fillNotPredictable=fillPredictions_medium_query)\n",
    "\n",
    "topNUsers = 4\n",
    "user_cf_predictions_large_user = userBasedCF(utilityMatrix_large_user, queriesToEvaluate_large_user, userSimilarity_large_user, topNUsers, fillNotPredictable=fillPredictions_large_user)\n",
    "\n",
    "topNUsers = 4\n",
    "user_cf_predictions_large_query = userBasedCF(utilityMatrix_large_query, queriesToEvaluate_large_query, userSimilarity_large_query, topNUsers, fillNotPredictable=fillPredictions_large_query)"
   ]
  },
  {
   "cell_type": "markdown",
   "id": "fed65b58-c98e-4e86-928c-8451a118ac08",
   "metadata": {},
   "source": [
    "### Making the Predictions and Actual values flat"
   ]
  },
  {
   "cell_type": "code",
   "execution_count": 9,
   "id": "80d215cb-7f54-429c-b3d8-e3378d6c4951",
   "metadata": {},
   "outputs": [],
   "source": [
    "flat_user_cf_predictions_small, actual_user_cf_small = getPredictionsAndActualRatings(user_cf_predictions_small, evaluation_small)\n",
    "flat_query_cf_predictions_small, actual_query_cf_small = getPredictionsAndActualRatings(query_cf_predictions_small, evaluation_small)\n",
    "\n",
    "flat_user_cf_predictions_medium_user, actual_user_cf_medium_user = getPredictionsAndActualRatings(user_cf_predictions_medium_user, evaluation_medium_user)\n",
    "flat_query_cf_predictions_medium_user, actual_query_cf_medium_user = getPredictionsAndActualRatings(query_cf_predictions_medium_user, evaluation_medium_user)\n",
    "\n",
    "flat_user_cf_predictions_medium_query, actual_user_cf_medium_query = getPredictionsAndActualRatings(user_cf_predictions_medium_query, evaluation_medium_query)\n",
    "flat_query_cf_predictions_medium_query, actual_query_cf_medium_query = getPredictionsAndActualRatings(query_cf_predictions_medium_query, evaluation_medium_query)\n",
    "\n",
    "flat_user_cf_predictions_large_user, actual_user_cf_large_user = getPredictionsAndActualRatings(user_cf_predictions_large_user, evaluation_large_user)\n",
    "flat_query_cf_predictions_large_user, actual_query_cf_large_user = getPredictionsAndActualRatings(query_cf_predictions_large_user, evaluation_large_user)\n",
    "\n",
    "flat_user_cf_predictions_large_query, actual_user_cf_large_query = getPredictionsAndActualRatings(user_cf_predictions_large_query, evaluation_large_query)\n",
    "flat_query_cf_predictions_large_query, actual_query_cf_large_query = getPredictionsAndActualRatings(query_cf_predictions_large_query, evaluation_large_query)"
   ]
  },
  {
   "attachments": {},
   "cell_type": "markdown",
   "id": "745fb4b1",
   "metadata": {},
   "source": [
    "### Return Top K not Posed Queries for a User"
   ]
  },
  {
   "cell_type": "code",
   "execution_count": 10,
   "id": "6f1d8b8d",
   "metadata": {},
   "outputs": [
    {
     "name": "stdout",
     "output_type": "stream",
     "text": [
      "User-based CF suggestions:\n",
      "1. Query 226 with score 85.10254488783089\n",
      "2. Query 206 with score 84.02494738319069\n",
      "3. Query 188 with score 83.18636940712973\n",
      "4. Query 79 with score 81.9756828801396\n",
      "5. Query 233 with score 80.13200863802153\n",
      "\n",
      "Query-based CF suggestions:\n",
      "1. Query 226 with score 93.25672822857344\n",
      "2. Query 233 with score 91.62973042064948\n",
      "3. Query 206 with score 79.91765572104265\n",
      "4. Query 188 with score 78.53136997888772\n",
      "5. Query 79 with score 76.8716398554387\n"
     ]
    }
   ],
   "source": [
    "userRetrievingSuggestions = 120\n",
    "howManySuggestions = 5\n",
    "suggestions = topKQueriesNotPosed(user_cf_predictions_small,userRetrievingSuggestions,howManySuggestions)\n",
    "\n",
    "print(\"User-based CF suggestions:\")\n",
    "for i, (queryId, score) in enumerate(suggestions):\n",
    "    print(f\"{i + 1}. Query {queryId} with score {score}\")\n",
    "\n",
    "print(\"\\nQuery-based CF suggestions:\")\n",
    "suggestions = topKQueriesNotPosed(query_cf_predictions_small,userRetrievingSuggestions,howManySuggestions)\n",
    "for i, (queryId, score) in enumerate(suggestions):\n",
    "    print(f\"{i + 1}. Query {queryId} with score {score}\")"
   ]
  },
  {
   "attachments": {},
   "cell_type": "markdown",
   "id": "baf307d0-c56c-44c8-aac8-0de8933549d7",
   "metadata": {},
   "source": [
    "### Calculating RMSE"
   ]
  },
  {
   "cell_type": "code",
   "execution_count": 11,
   "id": "6bc46118-2eb1-48d6-b0dc-38bf0c3ac514",
   "metadata": {},
   "outputs": [
    {
     "name": "stdout",
     "output_type": "stream",
     "text": [
      "User-based CF small:  21.04544491839309\n",
      "Query-based CF small:  18.458096011208337\n",
      "User-based CF medium user:  20.696056378179158\n",
      "Query-based CF medium user:  19.770860582325245\n",
      "User-based CF medium query:  21.74378500314639\n",
      "Query-based CF medium query:  16.086364942026915\n",
      "User-based CF large user:  20.736866470123253\n",
      "Query-based CF large user:  21.11857743836063\n",
      "User-based CF large query:  21.83470558932111\n",
      "Query-based CF large query:  15.963296243252408\n"
     ]
    }
   ],
   "source": [
    "user_cf_rmse_small = rootMeanSquaredError(flat_user_cf_predictions_small, actual_user_cf_small)\n",
    "query_cf_rmse_small = rootMeanSquaredError(flat_query_cf_predictions_small, actual_query_cf_small)\n",
    "\n",
    "user_cf_rmse_medium_user = rootMeanSquaredError(flat_user_cf_predictions_medium_user, actual_user_cf_medium_user)\n",
    "query_cf_rmse_medium_user = rootMeanSquaredError(flat_query_cf_predictions_medium_user, actual_query_cf_medium_user)\n",
    "\n",
    "user_cf_rmse_medium_query = rootMeanSquaredError(flat_user_cf_predictions_medium_query, actual_user_cf_medium_query)\n",
    "query_cf_rmse_medium_query = rootMeanSquaredError(flat_query_cf_predictions_medium_query, actual_query_cf_medium_query)\n",
    "\n",
    "user_cf_rmse_large_user = rootMeanSquaredError(flat_user_cf_predictions_large_user, actual_user_cf_large_user)\n",
    "query_cf_rmse_large_user = rootMeanSquaredError(flat_query_cf_predictions_large_user, actual_query_cf_large_user)\n",
    "\n",
    "user_cf_rmse_large_query = rootMeanSquaredError(flat_user_cf_predictions_large_query, actual_user_cf_large_query)\n",
    "query_cf_rmse_large_query = rootMeanSquaredError(flat_query_cf_predictions_large_query, actual_query_cf_large_query)\n",
    "\n",
    "print(\"User-based CF small: \", user_cf_rmse_small)\n",
    "print(\"Query-based CF small: \", query_cf_rmse_small)\n",
    "\n",
    "print(\"User-based CF medium user: \", user_cf_rmse_medium_user)\n",
    "print(\"Query-based CF medium user: \", query_cf_rmse_medium_user)\n",
    "\n",
    "print(\"User-based CF medium query: \", user_cf_rmse_medium_query)\n",
    "print(\"Query-based CF medium query: \", query_cf_rmse_medium_query)\n",
    "\n",
    "print(\"User-based CF large user: \", user_cf_rmse_large_user)\n",
    "print(\"Query-based CF large user: \", query_cf_rmse_large_user)\n",
    "\n",
    "print(\"User-based CF large query: \", user_cf_rmse_large_query)\n",
    "print(\"Query-based CF large query: \", query_cf_rmse_large_query)"
   ]
  },
  {
   "attachments": {},
   "cell_type": "markdown",
   "id": "f0052625",
   "metadata": {},
   "source": [
    "### Plotting the Results"
   ]
  },
  {
   "cell_type": "code",
   "execution_count": 12,
   "id": "2ca7d023",
   "metadata": {},
   "outputs": [
    {
     "data": {
      "image/png": "[encoded data removed]",
      "text/plain": [
       "<Figure size 640x480 with 1 Axes>"
      ]
     },
     "metadata": {},
     "output_type": "display_data"
    },
    {
     "data": {
      "image/png": "[encoded data removed]",
      "text/plain": [
       "<Figure size 640x480 with 1 Axes>"
      ]
     },
     "metadata": {},
     "output_type": "display_data"
    }
   ],
   "source": [
    "user_based_user_scaled_rmse = [user_cf_rmse_small, user_cf_rmse_medium_user, user_cf_rmse_large_user]\n",
    "query_based_user_scaled_rmse = [query_cf_rmse_small, query_cf_rmse_medium_user, query_cf_rmse_large_user]\n",
    "\n",
    "user_based_query_scaled_rmse = [user_cf_rmse_small, user_cf_rmse_medium_query, user_cf_rmse_large_query]\n",
    "query_based_query_scaled_rmse = [query_cf_rmse_small, query_cf_rmse_medium_query, query_cf_rmse_large_query]\n",
    "\n",
    "user_size_user_scaled = [len(userIDs_small), len(userIDs_medium_user), len(userIDs_large_user)]\n",
    "user_size_query_scaled = [len(userIDs_small), len(userIDs_medium_query), len(userIDs_large_query)]\n",
    "\n",
    "query_size_user_scaled = [len(queryIDs_small), len(queryIDs_medium_user), len(queryIDs_large_user)]\n",
    "query_size_query_scaled = [len(queryIDs_small), len(queryIDs_medium_query), len(queryIDs_large_query)]\n",
    "\n",
    "plt.plot(user_size_user_scaled, user_based_user_scaled_rmse, label=\"User-based CF\")\n",
    "plt.plot(user_size_user_scaled, query_based_user_scaled_rmse, label=\"Query-based CF\")\n",
    "plt.xlabel(\"Number of users\")\n",
    "plt.ylabel(\"RMSE\")\n",
    "plt.title(\"User-based CF vs Query-based CF on user scaled data\")\n",
    "plt.legend()\n",
    "# Save plot as a transparent PNG with High DPI\n",
    "plt.savefig('user_vs_query_user_scaled_transparent.png', dpi=300, transparent=True)\n",
    "plt.savefig('user_vs_query_user_scaled.png', dpi=300, transparent=False)\n",
    "plt.show()\n",
    "\n",
    "plt.plot(query_size_query_scaled, user_based_query_scaled_rmse, label=\"User-based CF\")\n",
    "plt.plot(query_size_query_scaled, query_based_query_scaled_rmse, label=\"Query-based CF\")\n",
    "plt.xlabel(\"Number of queries\")\n",
    "plt.ylabel(\"RMSE\")\n",
    "plt.title(\"User-based CF vs Query-based CF on query scaled data\")\n",
    "plt.legend()\n",
    "# Save plot as a transparent PNG with High DPI\n",
    "plt.savefig('user_vs_query_query_scaled_transparent.png', dpi=300, transparent=True)\n",
    "plt.savefig('user_vs_query_query_scaled.png', dpi=300, transparent=False)\n",
    "plt.show()"
   ]
  }
 ],
 "metadata": {
  "kernelspec": {
   "display_name": "Python 3",
   "language": "python",
   "name": "python3"
  },
  "language_info": {
   "codemirror_mode": {
    "name": "ipython",
    "version": 3
   },
   "file_extension": ".py",
   "mimetype": "text/x-python",
   "name": "python",
   "nbconvert_exporter": "python",
   "pygments_lexer": "ipython3",
   "version": "3.9.13"
  },
  "vscode": {
   "interpreter": {
    "hash": "e190dc728a05b56549c165df7858120b5aad229bd4fceaf4f96401d18c465e6d"
   }
  }
 },
 "nbformat": 4,
 "nbformat_minor": 5
}
