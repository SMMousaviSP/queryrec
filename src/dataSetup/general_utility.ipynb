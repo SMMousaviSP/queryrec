{
 "cells": [
  {
   "attachments": {},
   "cell_type": "markdown",
   "id": "0729ddfc",
   "metadata": {},
   "source": [
    "# General Utility of a Query\n",
    "In this notebook general utility of a query is being calculated. This query cen be\n",
    "outside of the query set, meaning there is no available rating for it, even after\n",
    "filling the utility matrix.\n"
   ]
  },
  {
   "cell_type": "code",
   "execution_count": null,
   "id": "f0b48d9e-977f-48db-aea7-593184f023cd",
   "metadata": {},
   "outputs": [],
   "source": [
    "from dataLoad import *\n",
    "from generalUtility import *\n",
    "from dataProcessing import *"
   ]
  },
  {
   "attachments": {},
   "cell_type": "markdown",
   "id": "cc020c74",
   "metadata": {},
   "source": [
    "### Loading the data\n",
    "Loading the query set, user set, utility matrix and the unique values of each column with their counts."
   ]
  },
  {
   "cell_type": "code",
   "execution_count": null,
   "id": "519f9dbf-b304-4f6e-a5be-7a646217dd96",
   "metadata": {},
   "outputs": [],
   "source": [
    "queries = loadQuerySet()\n",
    "userIDs = loadUserSet()\n",
    "queryIDs, utilityMatrix, average = loadUtilityMatrix()\n",
    "uniqueValues = getUniqueValues()"
   ]
  },
  {
   "attachments": {},
   "cell_type": "markdown",
   "id": "6c94a2e2",
   "metadata": {},
   "source": [
    "### Fill the Utility Matrix"
   ]
  },
  {
   "cell_type": "code",
   "execution_count": null,
   "id": "d76d6678",
   "metadata": {},
   "outputs": [],
   "source": [
    "(\n",
    "    userQueryLikedDict,\n",
    "    userQueryDislikedDict,\n",
    "    queryUserLikedDict,\n",
    "    queryUserDislikedDict\n",
    ") = generateLikedDislikedDictionary(\n",
    "    userIDs, queryIDs, utilityMatrix, average\n",
    ")\n",
    "\n",
    "userSimilarity = jaccardSimilarity(\n",
    "    userQueryLikedDict,\n",
    "    userQueryDislikedDict,\n",
    "    userIDs\n",
    ")\n",
    "querySimilarity = jaccardSimilarity(\n",
    "    queryUserLikedDict,\n",
    "    queryUserDislikedDict,\n",
    "    queryIDs\n",
    ")\n",
    "\n",
    "queriesToPredict = getQueriesToPredict(utilityMatrix)\n",
    "\n",
    "fillWithAvg = lambda user, query, average: average[user]\n",
    "fillPredictions = lambda user, query: fillWithAvg(user, query, average)\n",
    "\n",
    "topNQueries = 4\n",
    "query_cf_predictions = queryBasedCF(utilityMatrix, queriesToPredict, querySimilarity, topNQueries, fillNotPredictable=fillPredictions)\n",
    "\n",
    "topNUsers = 4\n",
    "user_cf_predictions = userBasedCF(utilityMatrix, queriesToPredict, userSimilarity, topNUsers, fillNotPredictable=fillPredictions)\n",
    "\n",
    "user_cf_utility = fillUtilityMatrix(utilityMatrix, user_cf_predictions)\n",
    "query_cf_utility = fillUtilityMatrix(utilityMatrix, query_cf_predictions)"
   ]
  },
  {
   "attachments": {},
   "cell_type": "markdown",
   "id": "eb4e84d9",
   "metadata": {},
   "source": [
    "### Calculate the General Utility Based on the Utility Matrix filled by User-Based CF"
   ]
  },
  {
   "cell_type": "code",
   "execution_count": null,
   "id": "27982ce3-a09c-403e-80a6-0e32e2d72bba",
   "metadata": {},
   "outputs": [],
   "source": [
    "query = {\"name\": \"John\", \"age\": \"45\"}\n",
    "generalUtility_user_cf = calculateGeneralUtility(query, user_cf_utility, queries, uniqueValues)\n",
    "print(f\"General Utility of query {query} is {generalUtility_user_cf}\")"
   ]
  },
  {
   "attachments": {},
   "cell_type": "markdown",
   "id": "568442b0",
   "metadata": {},
   "source": [
    "### Calculate the General Utility Based on the Utility Matrix filled by Query-Based CF"
   ]
  },
  {
   "cell_type": "code",
   "execution_count": null,
   "id": "346e8d0d",
   "metadata": {},
   "outputs": [],
   "source": [
    "query = {\"name\": \"John\", \"age\": \"45\"}\n",
    "generalUtility_query_cf = calculateGeneralUtility(query, query_cf_utility, queries, uniqueValues)\n",
    "print(f\"General Utility of query {query} is {generalUtility_query_cf}\")"
   ]
  }
 ],
 "metadata": {
  "kernelspec": {
   "display_name": "Python 3",
   "language": "python",
   "name": "python3"
  },
  "language_info": {
   "codemirror_mode": {
    "name": "ipython",
    "version": 3
   },
   "file_extension": ".py",
   "mimetype": "text/x-python",
   "name": "python",
   "nbconvert_exporter": "python",
   "pygments_lexer": "ipython3",
   "version": "3.9.13"
  },
  "vscode": {
   "interpreter": {
    "hash": "e190dc728a05b56549c165df7858120b5aad229bd4fceaf4f96401d18c465e6d"
   }
  }
 },
 "nbformat": 4,
 "nbformat_minor": 5
}
