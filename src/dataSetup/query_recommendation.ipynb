{
 "cells": [
  {
   "attachments": {},
   "cell_type": "markdown",
   "id": "e8238c05-a929-412b-b59d-cdb81df75702",
   "metadata": {},
   "source": [
    "# Query Recommendation"
   ]
  },
  {
   "cell_type": "code",
   "execution_count": null,
   "id": "7c98521e-b63d-4480-a362-d5fb1887845f",
   "metadata": {},
   "outputs": [],
   "source": [
    "import copy\n",
    "import os\n",
    "\n",
    "from dataLoad import *\n",
    "from dataProcessing import *"
   ]
  },
  {
   "cell_type": "markdown",
   "id": "94a706ab-6486-4137-9ff3-a5e6d6e36c37",
   "metadata": {},
   "source": [
    "### Loading User Set and Utility Matrix"
   ]
  },
  {
   "cell_type": "code",
   "execution_count": null,
   "id": "67a8f438-185f-4136-b01d-d6a7ba77f7aa",
   "metadata": {},
   "outputs": [],
   "source": [
    "userIDs = loadUserSet()\n",
    "queryIDs, utilityMatrix, average = loadUtilityMatrix()"
   ]
  },
  {
   "cell_type": "markdown",
   "id": "34d21315-54f8-46a8-8ca4-cae0b8384cdb",
   "metadata": {},
   "source": [
    "### Getting Liked and Disliked Queries\n",
    "In `userQueryLikedDict` and `userQueryDislikedDict`  the key is the User ID and the value is a list of query IDs that each user liked / disliked.\n",
    "In `queryUserLikedDict` and `queryUserLikedDict` the key is the Query ID and the value is a list of User IDs who liked / disliked the query."
   ]
  },
  {
   "cell_type": "code",
   "execution_count": null,
   "id": "b131ca0e-3b05-4cec-832e-488f2a0b1236",
   "metadata": {},
   "outputs": [],
   "source": [
    "(\n",
    "    userQueryLikedDict,\n",
    "    userQueryDislikedDict,\n",
    "    queryUserLikedDict,\n",
    "    queryUserDislikedDict\n",
    ") = generateLikedDislikedDictionary(\n",
    "    userIDs, queryIDs, utilityMatrix, average\n",
    ")"
   ]
  },
  {
   "cell_type": "markdown",
   "id": "7cd8b818-dd99-462b-b42c-0fe49ba9c6a1",
   "metadata": {},
   "source": [
    "### Calculating the Similarity of Users and Queries with Jaccard Similarity"
   ]
  },
  {
   "cell_type": "code",
   "execution_count": null,
   "id": "c109ea89-8dee-431b-bbb8-452330654bf6",
   "metadata": {},
   "outputs": [],
   "source": [
    "userSimilarity = jaccardSimilarity(\n",
    "    userQueryLikedDict,\n",
    "    userQueryDislikedDict,\n",
    "    userIDs\n",
    ")\n",
    "querySimilarity = jaccardSimilarity(\n",
    "    queryUserLikedDict,\n",
    "    queryUserDislikedDict,\n",
    "    queryIDs\n",
    ")"
   ]
  },
  {
   "attachments": {},
   "cell_type": "markdown",
   "id": "e0b3b9cc-2f69-4e24-a4ef-bc34970b7f4a",
   "metadata": {},
   "source": [
    "### Getting the unrated queries for prediction\n"
   ]
  },
  {
   "cell_type": "code",
   "execution_count": null,
   "id": "68df002d-37af-4e8b-9627-ec91cb6c899e",
   "metadata": {},
   "outputs": [],
   "source": [
    "queriesToPredict = getQueriesToPredict(utilityMatrix)"
   ]
  },
  {
   "cell_type": "markdown",
   "id": "b5780295-cba3-4d49-a540-ee40264d2286",
   "metadata": {},
   "source": [
    "### Preparing a function to fill predictions\n",
    "This function is used to fill the prediction of the queries that could not\n",
    "be predicted. In this specific example average rating of user will be placed."
   ]
  },
  {
   "cell_type": "code",
   "execution_count": null,
   "id": "c1d82a07-099b-45f1-b18f-95c7ed1cb4d4",
   "metadata": {},
   "outputs": [],
   "source": [
    "fillWithAvg = lambda user, query, average: average[user]\n",
    "fillPredictions = lambda user, query: fillWithAvg(user, query, average)"
   ]
  },
  {
   "cell_type": "markdown",
   "id": "92ca150c-2f99-4fef-90d2-35828ae7c2e4",
   "metadata": {},
   "source": [
    "### Make Predictions with Query Based Collaborative Filering"
   ]
  },
  {
   "cell_type": "code",
   "execution_count": null,
   "id": "d7829155-caff-4fd7-9cd1-0b163a56bf62",
   "metadata": {},
   "outputs": [],
   "source": [
    "topNQueries = 4\n",
    "query_cf_predictions = queryBasedCF(utilityMatrix, queriesToPredict, querySimilarity, topNQueries, fillNotPredictable=fillPredictions)"
   ]
  },
  {
   "cell_type": "markdown",
   "id": "55218fa7-9bde-40c7-90d4-015b92fb85bc",
   "metadata": {},
   "source": [
    "### Make Predictions with User Based Collaborative Filtering"
   ]
  },
  {
   "cell_type": "code",
   "execution_count": null,
   "id": "77d14901-bf6e-413c-aaf3-a0efa679a7e7",
   "metadata": {},
   "outputs": [],
   "source": [
    "topNUsers = 4\n",
    "user_cf_predictions = userBasedCF(utilityMatrix, queriesToPredict, userSimilarity, topNUsers, fillNotPredictable=fillPredictions)"
   ]
  },
  {
   "attachments": {},
   "cell_type": "markdown",
   "metadata": {},
   "source": [
    "### Fill the Utility Matrix with Predictions"
   ]
  },
  {
   "cell_type": "code",
   "execution_count": null,
   "metadata": {},
   "outputs": [],
   "source": [
    "user_cf_utility = fillUtilityMatrix(utilityMatrix, user_cf_predictions)\n",
    "query_cf_utility = fillUtilityMatrix(utilityMatrix, query_cf_predictions)"
   ]
  }
 ],
 "metadata": {
  "kernelspec": {
   "display_name": "Python 3",
   "language": "python",
   "name": "python3"
  },
  "language_info": {
   "codemirror_mode": {
    "name": "ipython",
    "version": 3
   },
   "file_extension": ".py",
   "mimetype": "text/x-python",
   "name": "python",
   "nbconvert_exporter": "python",
   "pygments_lexer": "ipython3",
   "version": "3.9.13"
  },
  "orig_nbformat": 4,
  "vscode": {
   "interpreter": {
    "hash": "e190dc728a05b56549c165df7858120b5aad229bd4fceaf4f96401d18c465e6d"
   }
  }
 },
 "nbformat": 4,
 "nbformat_minor": 2
}
